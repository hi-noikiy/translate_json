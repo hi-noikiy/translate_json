{
 "cells": [
  {
   "cell_type": "code",
   "execution_count": 2,
   "metadata": {},
   "outputs": [],
   "source": [
    "import matplotlib.pyplot as plt\n",
    "import os\n",
    "import numpy as np\n",
    "import json"
   ]
  },
  {
   "cell_type": "code",
   "execution_count": 7,
   "metadata": {},
   "outputs": [],
   "source": [
    "d2_str = r'C:\\Users\\bonul\\Downloads\\translate_json\\test\\locale-zh-CN.json'\n",
    "progress_file = os.path.join( os.path.dirname(d2_str) , 'progress.npy' )\n",
    "pepi = np.load(progress_file)"
   ]
  },
  {
   "cell_type": "code",
   "execution_count": 11,
   "metadata": {},
   "outputs": [
    {
     "name": "stdout",
     "output_type": "stream",
     "text": [
      "1022\n"
     ]
    }
   ],
   "source": [
    "def count_tasks(d1, d2,Ntasks_file):\n",
    "    for k1 in d1:\n",
    "        if k1 in d2:\n",
    "            if type(d1[k1]) is not dict:\n",
    "                #\n",
    "                np.save( Ntasks_file , np.load(Ntasks_file) + 1 )\n",
    "            else:\n",
    "                count_tasks(d1[k1], d2[k1],Ntasks_file)\n",
    "#\n",
    "d1_str = r'C:\\Users\\bonul\\Downloads\\translate_json\\test\\locale-en(1).json'\n",
    "d2_str = r'C:\\Users\\bonul\\Downloads\\translate_json\\test\\locale-zh-CN.json'\n",
    "\n",
    "Ntasks_file = os.path.join( os.path.dirname(d2_str) , 'Ntasks_file.npy' )\n",
    "if not os.path.exists(Ntasks_file):\n",
    "    np.save( Ntasks_file , 0 )\n",
    "\n",
    "with open(d1_str, 'rb') as f:\n",
    "    d1 = json.load(f)\n",
    "with open(d2_str, 'rb') as f:\n",
    "    d2 = json.load(f)\n",
    "\n",
    "count_tasks(d1, d2,Ntasks_file)\n"
   ]
  },
  {
   "cell_type": "code",
   "execution_count": 102,
   "metadata": {},
   "outputs": [
    {
     "name": "stdout",
     "output_type": "stream",
     "text": [
      "[0, array(1022)]\n"
     ]
    },
    {
     "data": {
      "image/png": "[encoded data removed]",
      "text/plain": [
       "<matplotlib.figure.Figure at 0x2c3b7a1b2e8>"
      ]
     },
     "metadata": {},
     "output_type": "display_data"
    }
   ],
   "source": [
    "import matplotlib.pyplot as plt\n",
    "import os\n",
    "import numpy as np\n",
    "import json\n",
    "def plot_progress(progress_file = r'C:\\Users\\bonul\\Downloads\\translate_json\\test\\progress.npy'):\n",
    "    Ntasks_file = progress_file.replace('progress.npy','Ntasks_file.npy')\n",
    "    Ntasks = np.load(Ntasks_file)\n",
    "    done_tsks = np.load(progress_file)[1]\n",
    "    labels = 'Done', '//TODO'\n",
    "    sizes = [done_tsks, Ntasks-done_tsks]\n",
    "    print([Ntasks-done_tsks,Ntasks])\n",
    "    explode = (0.1, 0)\n",
    "    fig1, ax1 = plt.subplots()\n",
    "    aux=ax1.pie(sizes, explode=explode, labels=labels, autopct='%1.1f%%',shadow=True, startangle=90)\n",
    "    aux=ax1.axis('equal')  # Equal aspect ratio ensures that pie is drawn as a circle.\n",
    "plot_progress()"
   ]
  }
 ],
 "metadata": {
  "kernelspec": {
   "display_name": "Python 3",
   "language": "python",
   "name": "python3"
  },
  "language_info": {
   "codemirror_mode": {
    "name": "ipython",
    "version": 3
   },
   "file_extension": ".py",
   "mimetype": "text/x-python",
   "name": "python",
   "nbconvert_exporter": "python",
   "pygments_lexer": "ipython3",
   "version": "3.6.4"
  }
 },
 "nbformat": 4,
 "nbformat_minor": 2
}
