{
 "cells": [
  {
   "cell_type": "code",
   "execution_count": null,
   "metadata": {
    "scrolled": true
   },
   "outputs": [
    {
     "data": {
      "text/markdown": [
       "# No, we are trying to avoid both scenarios. Basically the self-mining is meant to be a way for individual users to get involved with cryptocurrency and be fun for everyone. We want to avoid going down the path of multiple user accounts and multiple devices because this will eventually lead to server farms, bot nets etc. and wont benefit everyone. You risk having your account(s) closed and we take active measures to prevent this kind of activity."
      ],
      "text/plain": [
       "<IPython.core.display.Markdown object>"
      ]
     },
     "metadata": {},
     "output_type": "display_data"
    },
    {
     "data": {
      "text/markdown": [
       "# 不，我们正试图避免这两种情况。基本上，自我挖掘意味着让个人用户参与加密货币并为每个人带来乐趣。我们希望避免走多个用户帐户和多个设备的路径，因为这最终会导致服务器场，bot网等等，并且不会让所有人受益。您有可能会关闭您的帐户并采取积极措施来阻止此类活动。"
      ],
      "text/plain": [
       "<IPython.core.display.Markdown object>"
      ]
     },
     "metadata": {},
     "output_type": "display_data"
    }
   ],
   "source": [
    "import utils\n"
   ]
  },
  {
   "cell_type": "code",
   "execution_count": 1,
   "metadata": {},
   "outputs": [
    {
     "data": {
      "text/plain": [
       "array([632, 632])"
      ]
     },
     "execution_count": 1,
     "metadata": {},
     "output_type": "execute_result"
    }
   ],
   "source": [
    "import numpy as np\n",
    "progress_file = r'C:\\Users\\bonul\\Downloads\\translate_json\\test\\progress.npy'\n",
    "np.load(progress_file)"
   ]
  },
  {
   "cell_type": "code",
   "execution_count": 2,
   "metadata": {},
   "outputs": [],
   "source": [
    "np.save(r'C:\\Users\\bonul\\Downloads\\translate_json\\test\\progress.npy',[0,632])"
   ]
  },
  {
   "cell_type": "code",
   "execution_count": null,
   "metadata": {},
   "outputs": [],
   "source": []
  }
 ],
 "metadata": {
  "kernelspec": {
   "display_name": "Python 3",
   "language": "python",
   "name": "python3"
  },
  "language_info": {
   "codemirror_mode": {
    "name": "ipython",
    "version": 3
   },
   "file_extension": ".py",
   "mimetype": "text/x-python",
   "name": "python",
   "nbconvert_exporter": "python",
   "pygments_lexer": "ipython3",
   "version": "3.6.4"
  }
 },
 "nbformat": 4,
 "nbformat_minor": 2
}
